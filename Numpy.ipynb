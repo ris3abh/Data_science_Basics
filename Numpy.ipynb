{
 "cells": [
  {
   "cell_type": "markdown",
   "id": "bfd81362",
   "metadata": {},
   "source": [
    "## Numpy stands for Numerical Python and is a fundamental tool for scintific computing .It contains various tools(pre comilled functions for linear algebra and other functions) to solve mathamatical problems. "
   ]
  },
  {
   "cell_type": "markdown",
   "id": "f3d91b60",
   "metadata": {},
   "source": [
    "## things we can do using numpy\n",
    "- ### mathamatical operations on array\n",
    "- ### Linear algebra operations\n",
    "- ### Broadcasting\n",
    "- ### Random Number greneration and operation"
   ]
  },
  {
   "cell_type": "code",
   "execution_count": null,
   "id": "0b9460f2",
   "metadata": {},
   "outputs": [],
   "source": []
  }
 ],
 "metadata": {
  "kernelspec": {
   "display_name": "Python 3",
   "language": "python",
   "name": "python3"
  },
  "language_info": {
   "codemirror_mode": {
    "name": "ipython",
    "version": 3
   },
   "file_extension": ".py",
   "mimetype": "text/x-python",
   "name": "python",
   "nbconvert_exporter": "python",
   "pygments_lexer": "ipython3",
   "version": "3.8.5"
  }
 },
 "nbformat": 4,
 "nbformat_minor": 5
}
