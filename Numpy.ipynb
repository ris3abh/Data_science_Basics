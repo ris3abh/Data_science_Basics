{
 "cells": [
  {
   "cell_type": "markdown",
   "id": "f7d7068d",
   "metadata": {},
   "source": [
    "## Numpy stands for Numerical Python and is a fundamental tool for scintific computing .It contains various tools(pre comilled functions for linear algebra and other functions) to solve mathamatical problems. "
   ]
  },
  {
   "cell_type": "markdown",
   "id": "c3569afa",
   "metadata": {},
   "source": [
    "## things we can do using numpy\n",
    "- ### mathamatical operations on array\n",
    "- ### Linear algebra operations\n",
    "- ### Broadcasting\n",
    "- ### Random Number greneration and operation"
   ]
  },
  {
   "cell_type": "code",
   "execution_count": 1,
   "id": "68a08d61",
   "metadata": {},
   "outputs": [],
   "source": [
    "import numpy as np"
   ]
  },
  {
   "cell_type": "code",
   "execution_count": 2,
   "id": "b30edee3",
   "metadata": {},
   "outputs": [],
   "source": [
    "a = np.array([1,2,3])"
   ]
  },
  {
   "cell_type": "code",
   "execution_count": 3,
   "id": "6e4dc2e4",
   "metadata": {},
   "outputs": [
    {
     "name": "stdout",
     "output_type": "stream",
     "text": [
      "[1 2 3]\n"
     ]
    }
   ],
   "source": [
    "print(a)"
   ]
  },
  {
   "cell_type": "code",
   "execution_count": 4,
   "id": "d9ffb3eb",
   "metadata": {},
   "outputs": [
    {
     "data": {
      "text/plain": [
       "(3,)"
      ]
     },
     "execution_count": 4,
     "metadata": {},
     "output_type": "execute_result"
    }
   ],
   "source": [
    "a.shape"
   ]
  },
  {
   "cell_type": "code",
   "execution_count": 5,
   "id": "eed501ff",
   "metadata": {},
   "outputs": [
    {
     "data": {
      "text/plain": [
       "array([[1, 2, 3],\n",
       "       [4, 5, 6]])"
      ]
     },
     "execution_count": 5,
     "metadata": {},
     "output_type": "execute_result"
    }
   ],
   "source": [
    "b = np.array([[1,2,3],[4,5,6]])\n",
    "b"
   ]
  },
  {
   "cell_type": "code",
   "execution_count": 7,
   "id": "b3b35de3",
   "metadata": {},
   "outputs": [
    {
     "name": "stdout",
     "output_type": "stream",
     "text": [
      "[[1 2 3]\n",
      " [4 5 6]]\n"
     ]
    }
   ],
   "source": [
    "print(b)"
   ]
  },
  {
   "cell_type": "markdown",
   "id": "6b49adfc",
   "metadata": {},
   "source": [
    "### shape returns the shape of array "
   ]
  },
  {
   "cell_type": "code",
   "execution_count": 8,
   "id": "bb8fcf72",
   "metadata": {},
   "outputs": [
    {
     "data": {
      "text/plain": [
       "(2, 3)"
      ]
     },
     "execution_count": 8,
     "metadata": {},
     "output_type": "execute_result"
    }
   ],
   "source": [
    "b.shape"
   ]
  },
  {
   "cell_type": "code",
   "execution_count": 9,
   "id": "5147a1d0",
   "metadata": {},
   "outputs": [],
   "source": [
    "a = np.array([1,'hello','b'])"
   ]
  },
  {
   "cell_type": "code",
   "execution_count": 10,
   "id": "af331575",
   "metadata": {},
   "outputs": [
    {
     "data": {
      "text/plain": [
       "array(['1', 'hello', 'b'], dtype='<U21')"
      ]
     },
     "execution_count": 10,
     "metadata": {},
     "output_type": "execute_result"
    }
   ],
   "source": [
    "a"
   ]
  },
  {
   "cell_type": "code",
   "execution_count": 11,
   "id": "23c4ece5",
   "metadata": {},
   "outputs": [
    {
     "data": {
      "text/plain": [
       "array(['3', 'hello', 'b'], dtype='<U21')"
      ]
     },
     "execution_count": 11,
     "metadata": {},
     "output_type": "execute_result"
    }
   ],
   "source": [
    "a[0] = 3\n",
    "a"
   ]
  },
  {
   "cell_type": "code",
   "execution_count": 12,
   "id": "4cc61540",
   "metadata": {},
   "outputs": [],
   "source": [
    "a[0] = 'smax'"
   ]
  },
  {
   "cell_type": "code",
   "execution_count": 13,
   "id": "4919b4fa",
   "metadata": {},
   "outputs": [
    {
     "data": {
      "text/plain": [
       "array(['smax', 'hello', 'b'], dtype='<U21')"
      ]
     },
     "execution_count": 13,
     "metadata": {},
     "output_type": "execute_result"
    }
   ],
   "source": [
    "a"
   ]
  },
  {
   "cell_type": "code",
   "execution_count": 14,
   "id": "b8523361",
   "metadata": {},
   "outputs": [
    {
     "data": {
      "text/plain": [
       "(2, 3)"
      ]
     },
     "execution_count": 14,
     "metadata": {},
     "output_type": "execute_result"
    }
   ],
   "source": [
    "b.shape"
   ]
  },
  {
   "cell_type": "markdown",
   "id": "d45a91e4",
   "metadata": {},
   "source": [
    "### first argument is for row and second column"
   ]
  },
  {
   "cell_type": "code",
   "execution_count": 15,
   "id": "5d2dbf36",
   "metadata": {},
   "outputs": [
    {
     "data": {
      "text/plain": [
       "1"
      ]
     },
     "execution_count": 15,
     "metadata": {},
     "output_type": "execute_result"
    }
   ],
   "source": [
    "b[0,0] "
   ]
  },
  {
   "cell_type": "code",
   "execution_count": 18,
   "id": "64b1ed53",
   "metadata": {},
   "outputs": [
    {
     "data": {
      "text/plain": [
       "6"
      ]
     },
     "execution_count": 18,
     "metadata": {},
     "output_type": "execute_result"
    }
   ],
   "source": [
    "b[1,2]"
   ]
  },
  {
   "cell_type": "markdown",
   "id": "68be6967",
   "metadata": {},
   "source": [
    "### Some special arrays"
   ]
  },
  {
   "cell_type": "code",
   "execution_count": 19,
   "id": "fc900ba6",
   "metadata": {},
   "outputs": [],
   "source": [
    "z = np.zeros((2,4))"
   ]
  },
  {
   "cell_type": "code",
   "execution_count": 20,
   "id": "3ce7922f",
   "metadata": {},
   "outputs": [
    {
     "data": {
      "text/plain": [
       "array([[0., 0., 0., 0.],\n",
       "       [0., 0., 0., 0.]])"
      ]
     },
     "execution_count": 20,
     "metadata": {},
     "output_type": "execute_result"
    }
   ],
   "source": [
    "z"
   ]
  },
  {
   "cell_type": "code",
   "execution_count": 21,
   "id": "17ff4ecb",
   "metadata": {},
   "outputs": [],
   "source": [
    "z = np.ones((3,4))"
   ]
  },
  {
   "cell_type": "code",
   "execution_count": 22,
   "id": "2108aedc",
   "metadata": {},
   "outputs": [
    {
     "data": {
      "text/plain": [
       "array([[1., 1., 1., 1.],\n",
       "       [1., 1., 1., 1.],\n",
       "       [1., 1., 1., 1.]])"
      ]
     },
     "execution_count": 22,
     "metadata": {},
     "output_type": "execute_result"
    }
   ],
   "source": [
    "z"
   ]
  },
  {
   "cell_type": "code",
   "execution_count": 29,
   "id": "3423a5f6",
   "metadata": {},
   "outputs": [],
   "source": [
    "z = np.eye(5,5)"
   ]
  },
  {
   "cell_type": "code",
   "execution_count": 30,
   "id": "fff47c80",
   "metadata": {},
   "outputs": [
    {
     "data": {
      "text/plain": [
       "array([[1., 0., 0., 0., 0.],\n",
       "       [0., 1., 0., 0., 0.],\n",
       "       [0., 0., 1., 0., 0.],\n",
       "       [0., 0., 0., 1., 0.],\n",
       "       [0., 0., 0., 0., 1.]])"
      ]
     },
     "execution_count": 30,
     "metadata": {},
     "output_type": "execute_result"
    }
   ],
   "source": [
    "z"
   ]
  },
  {
   "cell_type": "markdown",
   "id": "64e6c48a",
   "metadata": {},
   "source": [
    "### Slicing operations"
   ]
  },
  {
   "cell_type": "code",
   "execution_count": 33,
   "id": "951c6d80",
   "metadata": {},
   "outputs": [],
   "source": [
    "z = np.array([[34,43,12],[32,44,1],[56,65,88],[12,21,33]])"
   ]
  },
  {
   "cell_type": "code",
   "execution_count": 34,
   "id": "3c777a2f",
   "metadata": {},
   "outputs": [
    {
     "data": {
      "text/plain": [
       "(4, 3)"
      ]
     },
     "execution_count": 34,
     "metadata": {},
     "output_type": "execute_result"
    }
   ],
   "source": [
    "z.shape"
   ]
  },
  {
   "cell_type": "code",
   "execution_count": 35,
   "id": "63e9ec91",
   "metadata": {},
   "outputs": [
    {
     "name": "stdout",
     "output_type": "stream",
     "text": [
      "[[34 43 12]\n",
      " [32 44  1]\n",
      " [56 65 88]\n",
      " [12 21 33]]\n"
     ]
    }
   ],
   "source": [
    "print(z)"
   ]
  },
  {
   "cell_type": "markdown",
   "id": "3b7874ab",
   "metadata": {},
   "source": [
    "## slicing operations by index"
   ]
  },
  {
   "cell_type": "markdown",
   "id": "38f04275",
   "metadata": {},
   "source": [
    "### first input parameter slice is for rows and the second one is for columns"
   ]
  },
  {
   "cell_type": "code",
   "execution_count": 38,
   "id": "d76a0a96",
   "metadata": {},
   "outputs": [
    {
     "name": "stdout",
     "output_type": "stream",
     "text": [
      "[[43]\n",
      " [44]]\n"
     ]
    }
   ],
   "source": [
    "print(z[0:2 ,1:2])"
   ]
  },
  {
   "cell_type": "code",
   "execution_count": 39,
   "id": "d245dfad",
   "metadata": {},
   "outputs": [],
   "source": [
    "z = np.array([[34,43,12,2],[32,44,1,12],[56,65,88,44],[12,21,33,65]])"
   ]
  },
  {
   "cell_type": "code",
   "execution_count": 40,
   "id": "f4f03406",
   "metadata": {},
   "outputs": [
    {
     "data": {
      "text/plain": [
       "(4, 4)"
      ]
     },
     "execution_count": 40,
     "metadata": {},
     "output_type": "execute_result"
    }
   ],
   "source": [
    "z.shape"
   ]
  },
  {
   "cell_type": "code",
   "execution_count": 42,
   "id": "5f05eac6",
   "metadata": {},
   "outputs": [
    {
     "data": {
      "text/plain": [
       "array([[34, 43, 12,  2],\n",
       "       [32, 44,  1, 12],\n",
       "       [56, 65, 88, 44],\n",
       "       [12, 21, 33, 65]])"
      ]
     },
     "execution_count": 42,
     "metadata": {},
     "output_type": "execute_result"
    }
   ],
   "source": [
    "z"
   ]
  },
  {
   "cell_type": "code",
   "execution_count": 44,
   "id": "fdaf1f8c",
   "metadata": {},
   "outputs": [
    {
     "name": "stdout",
     "output_type": "stream",
     "text": [
      "[[56 65 88 44]]\n"
     ]
    }
   ],
   "source": [
    "print(z[2:3,:])"
   ]
  },
  {
   "cell_type": "markdown",
   "id": "6a57e6ad",
   "metadata": {},
   "source": [
    "## Boolean Indexing"
   ]
  },
  {
   "cell_type": "code",
   "execution_count": 45,
   "id": "f095c890",
   "metadata": {},
   "outputs": [],
   "source": [
    "a = np.array([[1,2,3,4],[5,6,7,8],[1,2,3,1]])"
   ]
  },
  {
   "cell_type": "code",
   "execution_count": 46,
   "id": "b15dd206",
   "metadata": {},
   "outputs": [
    {
     "data": {
      "text/plain": [
       "(3, 4)"
      ]
     },
     "execution_count": 46,
     "metadata": {},
     "output_type": "execute_result"
    }
   ],
   "source": [
    "a.shape"
   ]
  },
  {
   "cell_type": "code",
   "execution_count": 47,
   "id": "b3227545",
   "metadata": {},
   "outputs": [
    {
     "data": {
      "text/plain": [
       "array([5, 6, 7, 8])"
      ]
     },
     "execution_count": 47,
     "metadata": {},
     "output_type": "execute_result"
    }
   ],
   "source": [
    "a[a > 4]"
   ]
  },
  {
   "cell_type": "code",
   "execution_count": 50,
   "id": "1b5925ab",
   "metadata": {},
   "outputs": [
    {
     "name": "stdout",
     "output_type": "stream",
     "text": [
      "[6 7]\n"
     ]
    }
   ],
   "source": [
    "print(a[(a > 5) & ( a < 8)])"
   ]
  },
  {
   "cell_type": "code",
   "execution_count": 51,
   "id": "3307777e",
   "metadata": {},
   "outputs": [
    {
     "name": "stdout",
     "output_type": "stream",
     "text": [
      "[[False False False  True]\n",
      " [ True  True  True  True]\n",
      " [False False False False]]\n"
     ]
    }
   ],
   "source": [
    "print( a > 3)"
   ]
  },
  {
   "cell_type": "markdown",
   "id": "9d77bb15",
   "metadata": {},
   "source": [
    "## Data Types and Array operations"
   ]
  },
  {
   "cell_type": "code",
   "execution_count": 52,
   "id": "316c4f6a",
   "metadata": {},
   "outputs": [
    {
     "name": "stdout",
     "output_type": "stream",
     "text": [
      "[1 2 3] int64\n"
     ]
    }
   ],
   "source": [
    "a = np.array([1,2,3])\n",
    "print(a ,a.dtype)"
   ]
  },
  {
   "cell_type": "code",
   "execution_count": 53,
   "id": "d95a1b36",
   "metadata": {},
   "outputs": [
    {
     "name": "stdout",
     "output_type": "stream",
     "text": [
      "[1.  2.4 3. ] float64\n"
     ]
    }
   ],
   "source": [
    "a = np.array([1,2.4,3])\n",
    "print(a ,a.dtype)"
   ]
  },
  {
   "cell_type": "code",
   "execution_count": 54,
   "id": "a884db9f",
   "metadata": {},
   "outputs": [],
   "source": [
    "a = np.array([1,2,3.444] ,dtype = np.int64)"
   ]
  },
  {
   "cell_type": "code",
   "execution_count": 55,
   "id": "a457a2b3",
   "metadata": {},
   "outputs": [
    {
     "data": {
      "text/plain": [
       "array([1, 2, 3])"
      ]
     },
     "execution_count": 55,
     "metadata": {},
     "output_type": "execute_result"
    }
   ],
   "source": [
    "a"
   ]
  },
  {
   "cell_type": "markdown",
   "id": "84eb00df",
   "metadata": {},
   "source": [
    "## Some Arithmetic operations"
   ]
  },
  {
   "cell_type": "code",
   "execution_count": 56,
   "id": "dfe0cce1",
   "metadata": {},
   "outputs": [],
   "source": [
    "a = 20*np.random.randn(4,5)"
   ]
  },
  {
   "cell_type": "code",
   "execution_count": 58,
   "id": "a159128a",
   "metadata": {},
   "outputs": [
    {
     "name": "stdout",
     "output_type": "stream",
     "text": [
      "[[ -6.78574589  11.33980454   7.28220647  43.53762293 -36.68024168]\n",
      " [  2.58402506 -29.80071347  -0.05139796   0.48283361   9.04519873]\n",
      " [ 25.47976827  -7.82203025 -12.2935658    2.40544493   9.71626431]\n",
      " [ -6.31162868  -4.37097442   6.00178365 -32.09596581  21.97082735]]\n"
     ]
    }
   ],
   "source": [
    "print(a)"
   ]
  },
  {
   "cell_type": "code",
   "execution_count": 62,
   "id": "293870d3",
   "metadata": {},
   "outputs": [],
   "source": [
    "b = 20*np.random.randn(4,5)"
   ]
  },
  {
   "cell_type": "code",
   "execution_count": 63,
   "id": "214dfbf5",
   "metadata": {},
   "outputs": [
    {
     "name": "stdout",
     "output_type": "stream",
     "text": [
      "[[ 14.42553566  -7.6546938  -25.99071959  -0.75095315  -7.81641873]\n",
      " [ -3.29956613  -0.91797223  12.79736458  -7.87620056  -7.56576014]\n",
      " [ 51.28567039   2.67513737  18.59700474  22.20320086   4.52188088]\n",
      " [  9.61568564  21.29944665  -1.06769959  -5.72628443 -11.73887791]]\n"
     ]
    }
   ],
   "source": [
    "print(b)"
   ]
  },
  {
   "cell_type": "markdown",
   "id": "843b34f8",
   "metadata": {},
   "source": [
    "### Addition operations"
   ]
  },
  {
   "cell_type": "code",
   "execution_count": 67,
   "id": "0ad6b269",
   "metadata": {},
   "outputs": [
    {
     "name": "stdout",
     "output_type": "stream",
     "text": [
      "[[  7.63978977   3.68511074 -18.70851312  42.78666979 -44.49666042]\n",
      " [ -0.71554107 -30.7186857   12.74596662  -7.39336696   1.47943858]\n",
      " [ 76.76543866  -5.14689287   6.30343894  24.60864579  14.2381452 ]\n",
      " [  3.30405696  16.92847223   4.93408406 -37.82225024  10.23194944]]\n"
     ]
    }
   ],
   "source": [
    "print(a+b)"
   ]
  },
  {
   "cell_type": "code",
   "execution_count": 66,
   "id": "c5608fa6",
   "metadata": {},
   "outputs": [
    {
     "name": "stdout",
     "output_type": "stream",
     "text": [
      "[[  7.63978977   3.68511074 -18.70851312  42.78666979 -44.49666042]\n",
      " [ -0.71554107 -30.7186857   12.74596662  -7.39336696   1.47943858]\n",
      " [ 76.76543866  -5.14689287   6.30343894  24.60864579  14.2381452 ]\n",
      " [  3.30405696  16.92847223   4.93408406 -37.82225024  10.23194944]]\n"
     ]
    }
   ],
   "source": [
    "print(np.add(a,b))"
   ]
  },
  {
   "cell_type": "markdown",
   "id": "047fa488",
   "metadata": {},
   "source": [
    "### Subtraction operations"
   ]
  },
  {
   "cell_type": "code",
   "execution_count": 68,
   "id": "861d65e5",
   "metadata": {},
   "outputs": [
    {
     "name": "stdout",
     "output_type": "stream",
     "text": [
      "[[-21.21128156  18.99449835  33.27292607  44.28857608 -28.86382295]\n",
      " [  5.8835912  -28.88274125 -12.84876254   8.35903417  16.61095887]\n",
      " [-25.80590212 -10.49716762 -30.89057054 -19.79775594   5.19438343]\n",
      " [-15.92731432 -25.67042107   7.06948325 -26.36968137  33.70970526]]\n"
     ]
    }
   ],
   "source": [
    "print(a-b)"
   ]
  },
  {
   "cell_type": "code",
   "execution_count": 70,
   "id": "3f29a9de",
   "metadata": {},
   "outputs": [
    {
     "name": "stdout",
     "output_type": "stream",
     "text": [
      "[[-21.21128156  18.99449835  33.27292607  44.28857608 -28.86382295]\n",
      " [  5.8835912  -28.88274125 -12.84876254   8.35903417  16.61095887]\n",
      " [-25.80590212 -10.49716762 -30.89057054 -19.79775594   5.19438343]\n",
      " [-15.92731432 -25.67042107   7.06948325 -26.36968137  33.70970526]]\n"
     ]
    }
   ],
   "source": [
    "print(np.subtract(a,b))"
   ]
  },
  {
   "cell_type": "markdown",
   "id": "5a2ff6f1",
   "metadata": {},
   "source": [
    "## divison operation"
   ]
  },
  {
   "cell_type": "code",
   "execution_count": 71,
   "id": "2b1edab0",
   "metadata": {},
   "outputs": [
    {
     "name": "stdout",
     "output_type": "stream",
     "text": [
      "[[-4.70398192e-01 -1.48141844e+00 -2.80184873e-01 -5.79764838e+01\n",
      "   4.69271708e+00]\n",
      " [-7.83140861e-01  3.24636330e+01 -4.01629276e-03 -6.13028582e-02\n",
      "  -1.19554394e+00]\n",
      " [ 4.96820419e-01 -2.92397330e+00 -6.61050851e-01  1.08337755e-01\n",
      "   2.14872186e+00]\n",
      " [-6.56388834e-01 -2.05215398e-01 -5.62122875e+00  5.60502472e+00\n",
      "  -1.87162926e+00]]\n"
     ]
    }
   ],
   "source": [
    "print(a / b)"
   ]
  },
  {
   "cell_type": "code",
   "execution_count": 73,
   "id": "1dfd508a",
   "metadata": {},
   "outputs": [
    {
     "name": "stdout",
     "output_type": "stream",
     "text": [
      "[[-4.70398192e-01 -1.48141844e+00 -2.80184873e-01 -5.79764838e+01\n",
      "   4.69271708e+00]\n",
      " [-7.83140861e-01  3.24636330e+01 -4.01629276e-03 -6.13028582e-02\n",
      "  -1.19554394e+00]\n",
      " [ 4.96820419e-01 -2.92397330e+00 -6.61050851e-01  1.08337755e-01\n",
      "   2.14872186e+00]\n",
      " [-6.56388834e-01 -2.05215398e-01 -5.62122875e+00  5.60502472e+00\n",
      "  -1.87162926e+00]]\n"
     ]
    }
   ],
   "source": [
    "print(np.divide(a,b))"
   ]
  },
  {
   "cell_type": "markdown",
   "id": "789c5d02",
   "metadata": {},
   "source": [
    "### Exponent"
   ]
  },
  {
   "cell_type": "code",
   "execution_count": 74,
   "id": "0d86a1e7",
   "metadata": {},
   "outputs": [
    {
     "name": "stdout",
     "output_type": "stream",
     "text": [
      "[[1.12976471e-03 8.41035909e+04 1.45419312e+03 8.09374272e+18\n",
      "  1.17482571e-16]\n",
      " [1.32503645e+01 1.14212748e-13 9.49900570e-01 1.62066021e+00\n",
      "  8.47773612e+03]\n",
      " [1.16338312e+11 4.00807120e-04 4.58112570e-06 1.10833605e+01\n",
      "  1.65851718e+04]\n",
      " [1.81507465e-03 1.26389189e-02 4.04149013e+02 1.15053321e-14\n",
      "  3.48184217e+09]]\n"
     ]
    }
   ],
   "source": [
    "print(np.exp(a))"
   ]
  },
  {
   "cell_type": "code",
   "execution_count": 75,
   "id": "5dee197a",
   "metadata": {},
   "outputs": [
    {
     "name": "stdout",
     "output_type": "stream",
     "text": [
      "[[1.84047761e+06 4.73814908e-04 5.15672414e-12 4.71916533e-01\n",
      "  4.03062575e-04]\n",
      " [3.68991732e-02 3.99327967e-01 3.61264112e+05 3.79672863e-04\n",
      "  5.17883552e-04]\n",
      " [1.87535569e+22 1.45143436e+01 1.19282447e+08 4.39266026e+09\n",
      "  9.20084926e+01]\n",
      " [1.49982025e+04 1.77923022e+09 3.43798485e-01 3.25916442e-03\n",
      "  7.97756037e-06]]\n"
     ]
    }
   ],
   "source": [
    "print(np.exp(b))"
   ]
  },
  {
   "cell_type": "markdown",
   "id": "842eb227",
   "metadata": {},
   "source": [
    "### Multiplication"
   ]
  },
  {
   "cell_type": "code",
   "execution_count": 76,
   "id": "0e2ee5f9",
   "metadata": {},
   "outputs": [
    {
     "name": "stdout",
     "output_type": "stream",
     "text": [
      "[[-9.78880194e+01 -8.68027316e+01 -1.89269786e+02 -3.26947149e+01\n",
      "   2.86708128e+02]\n",
      " [-8.52616159e+00  2.73562273e+01 -6.57758467e-01 -3.80289432e+00\n",
      "  -6.84338040e+01]\n",
      " [ 1.30674700e+03 -2.09250054e+01 -2.28623502e+02  5.34085769e+01\n",
      "   4.39357899e+01]\n",
      " [-6.06906373e+01 -9.30993365e+01 -6.40810197e+00  1.83790629e+02\n",
      "  -2.57912860e+02]]\n"
     ]
    }
   ],
   "source": [
    "print(np.multiply(a,b))"
   ]
  },
  {
   "cell_type": "markdown",
   "id": "c1d7b647",
   "metadata": {},
   "source": [
    "### Matrix multiplication"
   ]
  },
  {
   "cell_type": "code",
   "execution_count": 77,
   "id": "cfeb159b",
   "metadata": {},
   "outputs": [],
   "source": [
    "c = 20*np.random.randn(5,4)"
   ]
  },
  {
   "cell_type": "code",
   "execution_count": 78,
   "id": "f86fba3a",
   "metadata": {},
   "outputs": [
    {
     "name": "stdout",
     "output_type": "stream",
     "text": [
      "[[-18.94704245  16.36969461 -19.67787698  -8.51993849]\n",
      " [ 39.01102158  26.27842408   1.09848481  -8.99917568]\n",
      " [ 11.64292313  -6.02024933  35.92898565   7.58157756]\n",
      " [ -4.41920476  -6.16958164  -5.24446888 -21.7430729 ]\n",
      " [-28.46492148 -17.37000529  -8.25699175   7.26077881]]\n"
     ]
    }
   ],
   "source": [
    "print(c)"
   ]
  },
  {
   "cell_type": "code",
   "execution_count": 79,
   "id": "d3e2c58e",
   "metadata": {},
   "outputs": [
    {
     "name": "stdout",
     "output_type": "stream",
     "text": [
      "[[ 1507.43187401   511.59797921   482.1647122  -1201.99297336]\n",
      " [-1471.71894349  -900.60068797  -162.64877231   300.95334467]\n",
      " [-1218.24753773   101.94357729 -1044.51787158  -221.65297499]\n",
      " [ -464.61040542  -437.92869352   321.94935623   996.00308506]]\n"
     ]
    }
   ],
   "source": [
    "print(np.dot(a,c))"
   ]
  },
  {
   "cell_type": "code",
   "execution_count": 81,
   "id": "2c313af2",
   "metadata": {},
   "outputs": [
    {
     "name": "stdout",
     "output_type": "stream",
     "text": [
      "shape of array a (4, 5)  shape of array b (5, 4) shape of multiplication array (4, 4)\n"
     ]
    }
   ],
   "source": [
    "print(\"shape of array a\",a.shape,\" shape of array b\", c.shape ,\"shape of multiplication array\",np.dot(a,c).shape)"
   ]
  },
  {
   "cell_type": "markdown",
   "id": "477effde",
   "metadata": {},
   "source": [
    "## Some common statastical opperations"
   ]
  },
  {
   "cell_type": "code",
   "execution_count": 82,
   "id": "2d2d00d4",
   "metadata": {},
   "outputs": [
    {
     "data": {
      "text/plain": [
       "(4, 5)"
      ]
     },
     "execution_count": 82,
     "metadata": {},
     "output_type": "execute_result"
    }
   ],
   "source": [
    "a.shape"
   ]
  },
  {
   "cell_type": "markdown",
   "id": "82b98286",
   "metadata": {},
   "source": [
    "### Mean "
   ]
  },
  {
   "cell_type": "code",
   "execution_count": 84,
   "id": "ed49dda3",
   "metadata": {},
   "outputs": [
    {
     "name": "stdout",
     "output_type": "stream",
     "text": [
      "0.18167579424725222\n"
     ]
    }
   ],
   "source": [
    "print(a.mean())"
   ]
  },
  {
   "cell_type": "code",
   "execution_count": 90,
   "id": "717b9aba",
   "metadata": {},
   "outputs": [
    {
     "name": "stdout",
     "output_type": "stream",
     "text": [
      "0.18167579424725222\n"
     ]
    }
   ],
   "source": [
    "print(np.mean(a))"
   ]
  },
  {
   "cell_type": "markdown",
   "id": "77540f5d",
   "metadata": {},
   "source": [
    "### Median"
   ]
  },
  {
   "cell_type": "code",
   "execution_count": 91,
   "id": "32fba73b",
   "metadata": {},
   "outputs": [
    {
     "name": "stdout",
     "output_type": "stream",
     "text": [
      "1.4441392662960448\n"
     ]
    }
   ],
   "source": [
    "print(np.median(a))"
   ]
  },
  {
   "cell_type": "markdown",
   "id": "57a18f56",
   "metadata": {},
   "source": [
    "## Transpose operation"
   ]
  },
  {
   "cell_type": "code",
   "execution_count": 92,
   "id": "a33448ce",
   "metadata": {},
   "outputs": [
    {
     "name": "stdout",
     "output_type": "stream",
     "text": [
      "[[ -6.78574589  11.33980454   7.28220647  43.53762293 -36.68024168]\n",
      " [  2.58402506 -29.80071347  -0.05139796   0.48283361   9.04519873]\n",
      " [ 25.47976827  -7.82203025 -12.2935658    2.40544493   9.71626431]\n",
      " [ -6.31162868  -4.37097442   6.00178365 -32.09596581  21.97082735]]\n"
     ]
    }
   ],
   "source": [
    "print(a)"
   ]
  },
  {
   "cell_type": "code",
   "execution_count": 93,
   "id": "0de5051d",
   "metadata": {},
   "outputs": [
    {
     "name": "stdout",
     "output_type": "stream",
     "text": [
      "[[ -6.78574589   2.58402506  25.47976827  -6.31162868]\n",
      " [ 11.33980454 -29.80071347  -7.82203025  -4.37097442]\n",
      " [  7.28220647  -0.05139796 -12.2935658    6.00178365]\n",
      " [ 43.53762293   0.48283361   2.40544493 -32.09596581]\n",
      " [-36.68024168   9.04519873   9.71626431  21.97082735]]\n"
     ]
    }
   ],
   "source": [
    "print(a.T)"
   ]
  },
  {
   "cell_type": "code",
   "execution_count": null,
   "id": "d05e5803",
   "metadata": {},
   "outputs": [],
   "source": []
  }
 ],
 "metadata": {
  "kernelspec": {
   "display_name": "Python 3",
   "language": "python",
   "name": "python3"
  },
  "language_info": {
   "codemirror_mode": {
    "name": "ipython",
    "version": 3
   },
   "file_extension": ".py",
   "mimetype": "text/x-python",
   "name": "python",
   "nbconvert_exporter": "python",
   "pygments_lexer": "ipython3",
   "version": "3.8.5"
  }
 },
 "nbformat": 4,
 "nbformat_minor": 5
}
